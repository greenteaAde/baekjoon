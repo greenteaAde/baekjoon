{
 "cells": [
  {
   "cell_type": "markdown",
   "metadata": {},
   "source": [
    "### COS Pro 1급 알고리즘 풀이\n",
    "- https://edu.goorm.io/learn/lecture/17299/cos-pro-1%EA%B8%89-%EA%B8%B0%EC%B6%9C%EB%AC%B8%EC%A0%9C-python\n",
    "- Test case가 부족하여 틀린 답이 존재할 수 있음 "
   ]
  },
  {
   "cell_type": "markdown",
   "metadata": {},
   "source": [
    "### [1차] 4. 타임머신"
   ]
  },
  {
   "cell_type": "code",
   "execution_count": null,
   "metadata": {},
   "outputs": [],
   "source": [
    "def solution(num):\n",
    "    num = str(num+1)\n",
    "    num = num.replace('0','1')\n",
    "    return  int(num)"
   ]
  },
  {
   "cell_type": "code",
   "execution_count": null,
   "metadata": {},
   "outputs": [],
   "source": [
    "### Solution\n",
    "\n",
    "def solution(num):\n",
    "    num += 1\n",
    "    digit = 1\n",
    "    while num // digit % 10 == 0:\n",
    "        num += digit\n",
    "        digit *= 10\n",
    "    return num"
   ]
  },
  {
   "cell_type": "markdown",
   "metadata": {},
   "source": [
    "### [1차] 5. 소용돌이 수"
   ]
  },
  {
   "cell_type": "code",
   "execution_count": 1,
   "metadata": {},
   "outputs": [],
   "source": [
    "def solution(n):\n",
    "    num = 1\n",
    "    num_list = [1]\n",
    "    if n%2 == 0:\n",
    "        plus_list = [4*i+2 for i in range(n//2-1)][::-1]*2\n",
    "        plus_list.append(2)\n",
    "        plus_list.sort()\n",
    "    if n%2 == 1:\n",
    "        plus_list = sorted([4*i+4 for i in range(n//2)])[::-1]*2\n",
    "    for i in plus_list:\n",
    "        num += i\n",
    "        num_list.append(num)\n",
    "    return sum(num_list)"
   ]
  },
  {
   "cell_type": "code",
   "execution_count": 2,
   "metadata": {},
   "outputs": [],
   "source": [
    "### Solution\n",
    "\n",
    "def in_range(i, j, n):\n",
    "    return 0 <= i and i < n and 0 <= j and j < n\n",
    "\n",
    "def solution(n):\n",
    "    pane = [[0 for j in range(n)] for i in range(n)]\n",
    "    dy = [0, 1, 0, -1]\n",
    "    dx = [1, 0, -1, 0]\n",
    "    ci, cj = 0, 0\n",
    "    num = 1\n",
    "    while in_range(ci, cj, n) and pane[ci][cj] == 0:\n",
    "        for k in range(4):\n",
    "            if not in_range(ci, cj, n) or pane[ci][cj] != 0:\n",
    "                break\n",
    "            while True:\n",
    "                pane[ci][cj] = num\n",
    "                num += 1\n",
    "                ni = ci + dy[k]\n",
    "                nj = cj + dx[k]\n",
    "                if not in_range(ni, nj, n) or pane[ni][nj] != 0:\n",
    "                    ci += dy[(k + 1) % 4]\n",
    "                    cj += dx[(k + 1) % 4]\n",
    "                    break\n",
    "                ci = ni\n",
    "                cj = nj\n",
    "\n",
    "    ans = 0\n",
    "    for i in range(n):\n",
    "        ans += pane[i][i]\n",
    "    return ans\n"
   ]
  },
  {
   "cell_type": "markdown",
   "metadata": {},
   "source": [
    "### [1차] 6. 체스의 나이트"
   ]
  },
  {
   "cell_type": "code",
   "execution_count": 5,
   "metadata": {},
   "outputs": [],
   "source": [
    "def solution(pos):\n",
    "    x = int(ord(pos[0]))-64\n",
    "    if x >= 5:\n",
    "        x = abs(x-9)\n",
    "    y = int(pos[1])\n",
    "    if y >= 5:\n",
    "        y = abs(y-9)\n",
    "    \n",
    "    availables = [(2,1),(1,2),\n",
    "                  (-1,-2),(-2,-1),\n",
    "                  (1,-2),(-2,1),\n",
    "                  (-1,2),(2,-1)]\n",
    "\n",
    "    num = 0\n",
    "    for a in availables:\n",
    "        if x+a[0]>0 and y+a[1]>0: num += 1\n",
    "    return num"
   ]
  },
  {
   "cell_type": "code",
   "execution_count": null,
   "metadata": {},
   "outputs": [],
   "source": [
    "### Solution\n",
    "\n",
    "def solution(pos):\n",
    "    dx = [1,1,-1,-1,2,2,-2,-2]\n",
    "    dy = [2,-2,-2,2,1,-1,-1,1]\n",
    "    cx = ord(pos[0]) - ord(\"A\")\n",
    "    cy = ord(pos[1]) - ord(\"0\") - 1\n",
    "    ans = 0\n",
    "    for i in range(8):\n",
    "        nx = cx + dx[i]\n",
    "        ny = cy + dy[i]\n",
    "        if nx >= 0 and nx < 8 and ny >= 0 and ny < 8:\n",
    "            ans += 1\n",
    "    return ans"
   ]
  },
  {
   "cell_type": "markdown",
   "metadata": {},
   "source": [
    "### [2차] 4. 합이 k배가 되는 수"
   ]
  },
  {
   "cell_type": "code",
   "execution_count": 6,
   "metadata": {},
   "outputs": [],
   "source": [
    "import itertools\n",
    "\n",
    "def solution(arr, K):\n",
    "    num_case = 0\n",
    "    for case in list(itertools.combinations(arr, 3)):\n",
    "        if sum(case) % K == 0:\n",
    "            num_case += 1\n",
    "    return num_case"
   ]
  },
  {
   "cell_type": "code",
   "execution_count": null,
   "metadata": {},
   "outputs": [],
   "source": [
    "### Solution\n",
    "\n",
    "def solution(arr, K):\n",
    "    n = len(arr)\n",
    "    count = 0\n",
    "    for p in range(0, n):\n",
    "        for q in range(p + 1, n):\n",
    "            for r in range(q + 1, n):\n",
    "                if (arr[p] + arr[q] + arr[r]) % K == 0:\n",
    "                    count += 1\n",
    "    return count"
   ]
  },
  {
   "cell_type": "markdown",
   "metadata": {},
   "source": [
    "### [2차] 5. 언제까지 오르막길이야..?!"
   ]
  },
  {
   "cell_type": "code",
   "execution_count": 7,
   "metadata": {},
   "outputs": [],
   "source": [
    "def solution(arr):\n",
    "    arr_len = len(arr)\n",
    "    answer = [0 for i in range(arr_len)]\n",
    "    for i in range(arr_len-1):\n",
    "        if arr[i]>=arr[i+1]:\n",
    "            answer[i] += 1\n",
    "            answer[-1] += 1\n",
    "    indexes = list(filter(lambda x: answer[x] == 1, range(arr_len)))\n",
    "    answer = max([indexes[i+1]-indexes[i] for i in range(len(indexes)-1)])\n",
    "    return answer"
   ]
  },
  {
   "cell_type": "code",
   "execution_count": null,
   "metadata": {},
   "outputs": [],
   "source": [
    "### Solution\n",
    "\n",
    "def solution(arr):\n",
    "    dp = [1 for _ in range(len(arr))]\n",
    "    for i in range(1, len(arr)):\n",
    "        if arr[i] > arr[i-1]:\n",
    "            dp[i] = dp[i-1] + 1\n",
    "    answer = max(dp)\n",
    "    return answer"
   ]
  },
  {
   "cell_type": "markdown",
   "metadata": {},
   "source": [
    "### [2차] 6. 로봇을 움직여주세요"
   ]
  },
  {
   "cell_type": "code",
   "execution_count": 8,
   "metadata": {},
   "outputs": [],
   "source": [
    "def solution(commands):\n",
    "    answer = [0,0]\n",
    "    command_dict = {'U': [0,1], 'R': [1,0], 'L': [-1,0], 'D':[0,-1]}\n",
    "    \n",
    "    for c in commands:\n",
    "        answer[0] += command_dict[c][0]\n",
    "        answer[1] += command_dict[c][1]\n",
    "    \n",
    "    return answer"
   ]
  },
  {
   "cell_type": "code",
   "execution_count": null,
   "metadata": {},
   "outputs": [],
   "source": [
    "### Solution\n",
    "\n",
    "def solution(commands):\n",
    "    current_position = [0, 0]\n",
    "    for d in commands:\n",
    "        if d == \"L\":\n",
    "            current_position[0] -= 1\n",
    "        elif d == \"R\":\n",
    "            current_position[0] += 1\n",
    "        elif d == \"U\":\n",
    "            current_position[1] += 1\n",
    "        elif d == \"D\":\n",
    "            current_position[1] -= 1\n",
    "    return current_position"
   ]
  },
  {
   "cell_type": "markdown",
   "metadata": {},
   "source": [
    "### [3차] 3. 비숍으로부터 도망쳐!"
   ]
  },
  {
   "cell_type": "code",
   "execution_count": 9,
   "metadata": {},
   "outputs": [],
   "source": [
    "def solution(bishops):\n",
    "    location = []\n",
    "    \n",
    "    for bishop in bishops:\n",
    "        x = int(ord(bishop[0])-64)\n",
    "        y = int(bishop[1])\n",
    "\n",
    "        for i, j in zip(range(-7,8), range(-7,8)):\n",
    "            if x+i < 9 and x+i >0 and j+y < 9 and j+y > 0:\n",
    "                location.append((i+x, j+y))\n",
    "\n",
    "        for i, j in zip(range(-7,8), reversed(range(-7,8))):\n",
    "            if x+i < 9 and x+i >0 and j+y < 9 and j+y > 0:\n",
    "                location.append((i+x, j+y))\n",
    "\n",
    "    return 64 - len(set(location))"
   ]
  },
  {
   "cell_type": "markdown",
   "metadata": {},
   "source": [
    "### [3차] 4. 중복 문자열 이어붙이기"
   ]
  },
  {
   "cell_type": "code",
   "execution_count": 11,
   "metadata": {},
   "outputs": [],
   "source": [
    "def solution(s1, s2):\n",
    "    max_len = min([len(s1),len(s2)])\n",
    "    for i in reversed(range(max_len)):\n",
    "        if s1[:i] == s2[-i:]:\n",
    "            answer1 = s2[:-i]+s1\n",
    "        if s2[:i] == s1[-i:]:\n",
    "            answer2 = s1[:-i]+s2\n",
    "    return min(len(answer1),len(answer2))"
   ]
  },
  {
   "cell_type": "markdown",
   "metadata": {},
   "source": [
    "### [3차] 5. 전광판 문구 출력"
   ]
  },
  {
   "cell_type": "code",
   "execution_count": 13,
   "metadata": {},
   "outputs": [],
   "source": [
    "def solution(phrases, second):\n",
    "    answer = '_' * len(phrases) + phrases + '_' * len(phrases)\n",
    "\n",
    "    return answer[second:second+len(phrases)]"
   ]
  },
  {
   "cell_type": "markdown",
   "metadata": {},
   "source": [
    "### [4차] 8. n번째로 작은 수 구하기"
   ]
  },
  {
   "cell_type": "code",
   "execution_count": null,
   "metadata": {},
   "outputs": [],
   "source": [
    "import itertools\n",
    "\n",
    "def solution(card, n):\n",
    "    answer = sorted(set([int(str(i)+str(j)+str(k)+str(l)) for i,j,k,l in itertools.permutations(card, len(card))]))\n",
    "    if n in answer:\n",
    "        return answer.index(n)+1\n",
    "    else:\n",
    "        return -1"
   ]
  },
  {
   "cell_type": "markdown",
   "metadata": {},
   "source": [
    "### [4차] 9. 분침과 시침의 각도 구하기"
   ]
  },
  {
   "cell_type": "code",
   "execution_count": 15,
   "metadata": {},
   "outputs": [],
   "source": [
    "def solution(hour, minute):\n",
    "    answer = ''\n",
    "    h = hour*30\n",
    "    m = minute*6\n",
    "    answer = abs(h-m)\n",
    "    return \"{:.1f}\".format(answer)"
   ]
  },
  {
   "cell_type": "markdown",
   "metadata": {},
   "source": [
    "### [4차] 10. 소수의 세제곱이 몇개가 있나요"
   ]
  },
  {
   "cell_type": "code",
   "execution_count": 16,
   "metadata": {},
   "outputs": [],
   "source": [
    "def solution(a, b):\n",
    "    n = 3\n",
    "    primes = [2]\n",
    "    while n**2<b:\n",
    "        primes_ = primes.copy()\n",
    "        for prime in primes_:\n",
    "            if n%prime == 0:\n",
    "                pass\n",
    "            if n%prime != 0:\n",
    "                primes.append(n)\n",
    "            n+=1\n",
    "\n",
    "    answer = 0\n",
    "    for i in primes:\n",
    "        if i**2 < b and i**2 > a:\n",
    "            answer += 1\n",
    "        if i**3 < b and i**3 > a:\n",
    "            answer += 1\n",
    "\n",
    "    return answer"
   ]
  },
  {
   "cell_type": "markdown",
   "metadata": {},
   "source": [
    "### [5차] 5. 몬스터 잡기"
   ]
  },
  {
   "cell_type": "code",
   "execution_count": null,
   "metadata": {},
   "outputs": [],
   "source": [
    "def solution(enemies, armies):\n",
    "    answer = 0\n",
    "    enemies = sorted(enemies)\n",
    "    armies = sorted(armies)\n",
    "    for x, y in zip(enemies, armies):\n",
    "        if x<=y:\n",
    "            answer+=1\n",
    "    return answer"
   ]
  },
  {
   "cell_type": "code",
   "execution_count": 17,
   "metadata": {},
   "outputs": [],
   "source": [
    "### Solution\n",
    "\n",
    "def solution(enemies, armies):\n",
    "    answer = 0\n",
    "    enemies.sort()\n",
    "    armies.sort()\n",
    "    i, j = 0, 0\n",
    "    while i < len(enemies) and j < len(armies):\n",
    "        if enemies[i] <= armies[j]:\n",
    "            answer = answer + 1\n",
    "            i = i + 1\n",
    "            j = j + 1\n",
    "        else:\n",
    "            j = j + 1\n",
    "    return answer"
   ]
  },
  {
   "cell_type": "markdown",
   "metadata": {},
   "source": [
    "### [5차] 6. p진법 to q진법"
   ]
  },
  {
   "cell_type": "code",
   "execution_count": 18,
   "metadata": {},
   "outputs": [],
   "source": [
    "def solution(s1, s2, p, q):\n",
    "    num = 0\n",
    "    for i, s in enumerate(s1[::-1]):\n",
    "        num += p**i * int(s)\n",
    "    for i, s in enumerate(s2[::-1]):\n",
    "        num += p**i * int(s)\n",
    "\n",
    "    n = 1\n",
    "    while q**n < num:\n",
    "        n+=1\n",
    "        \n",
    "    answer = ''\n",
    "    for i in reversed(range(n)):\n",
    "        answer += str(num // q**i)\n",
    "        num %= q**i\n",
    "\n",
    "    return answer"
   ]
  },
  {
   "cell_type": "code",
   "execution_count": null,
   "metadata": {},
   "outputs": [],
   "source": [
    "### Solution\n",
    "\n",
    "def char_to_int(ch):\n",
    "    for i in range(10):\n",
    "        if ch == numbers_char[i]:\n",
    "            return numbers_int[i]\n",
    "\n",
    "def int_to_char(val):\n",
    "    for i in range(10):\n",
    "        if val == numbers_int[i]:\n",
    "            return numbers_char[i]\n",
    "\n",
    "def convert_scale(num, q):\n",
    "    if num == 0:\n",
    "        return \"\"\n",
    "    return convert_scale(num // q, q) + int_to_char(num % q)\n",
    "\n",
    "def parse_decimal(s, p):\n",
    "    num = 0\n",
    "    mul = 1\n",
    "    for s_i in reversed(s):\n",
    "        num += char_to_int(s_i) * mul\n",
    "        mul *= p\n",
    "    return num\n",
    "\n",
    "def solution(s1, s2, p, q):\n",
    "    num1 = parse_decimal(s1, p)\n",
    "    num2 = parse_decimal(s2, p)\n",
    "    answer = convert_scale(num1 + num2, q)\n",
    "    return answer"
   ]
  },
  {
   "cell_type": "markdown",
   "metadata": {},
   "source": [
    "### [5차] 7. 그래프에서 사이클 찾기"
   ]
  },
  {
   "cell_type": "code",
   "execution_count": null,
   "metadata": {},
   "outputs": [],
   "source": [
    "### Solution\n",
    "\n",
    "def find(parent, u):\n",
    "    if u == parent[u]:\n",
    "        return u\n",
    "    parent[u] = find(parent, parent[u])\n",
    "    return parent[u]\n",
    "\n",
    "def merge(parent, u, v):\n",
    "    u = find(parent, u)\n",
    "    v = find(parent, v)\n",
    "    if u == v:\n",
    "        return True\n",
    "    parent[u] = v\n",
    "    return False\n",
    "\n",
    "def solution(n, connections):\n",
    "    answer = 0\n",
    "    parent = [i for i in range(n+1)]\n",
    "    for i, connection in enumerate(connections):\n",
    "        if merge(parent, connection[0], connection[1]):\n",
    "            answer = i + 1\n",
    "            break\n",
    "    return answer"
   ]
  },
  {
   "cell_type": "markdown",
   "metadata": {},
   "source": [
    "### [5차] 9. 몇번 연산을 해야 하나요"
   ]
  },
  {
   "cell_type": "code",
   "execution_count": null,
   "metadata": {},
   "outputs": [],
   "source": [
    "def solution(number, target):\n",
    "    answer = 0\n",
    "    num = number\n",
    "    while num < target:\n",
    "        num *= 2\n",
    "        answer +=1\n",
    "    if target-num >= number:\n",
    "        num *= 2\n",
    "        answer +=1\n",
    "    answer += abs(num-target)\n",
    "\n",
    "    return answer"
   ]
  },
  {
   "cell_type": "code",
   "execution_count": null,
   "metadata": {},
   "outputs": [],
   "source": [
    "### Solution\n",
    "\n",
    "import queue\n",
    "\n",
    "def solution(number, target):\n",
    "    answer = 0\n",
    "    visited = [0 for _ in range(10001)]\n",
    "    q = queue.Queue()\n",
    "    q.put(number)\n",
    "    visited[number] = 1\n",
    "    while not q.empty():\n",
    "        x = q.get()\n",
    "        if x == target:\n",
    "            break\n",
    "        if x+1 <= 10000 and visited[x+1] == 0:\n",
    "            visited[x+1] = visited[x]+1\n",
    "            q.put(x+1)\n",
    "        if x-1 >= 0 and visited[x-1] == 0:\n",
    "            visited[x-1] = visited[x]+1\n",
    "            q.put(x-1)\n",
    "        if 2*x <= 10000 and visited[2*x] == 0:\n",
    "            visited[2*x] = visited[x]+1\n",
    "            q.put(2*x)\n",
    "    answer = visited[target]-1\n",
    "    return answer"
   ]
  },
  {
   "cell_type": "markdown",
   "metadata": {},
   "source": [
    "### [6차] 1. 꽃피는 봄이 언제 오나요"
   ]
  },
  {
   "cell_type": "code",
   "execution_count": null,
   "metadata": {},
   "outputs": [],
   "source": [
    "### Solution\n",
    "\n",
    "import queue\n",
    "\n",
    "def solution(n, garden):\n",
    "    answer = 0\n",
    "\n",
    "    q = queue.Queue()\n",
    "    dx = [ -1, 1, 0, 0 ]\n",
    "    dy = [ 0, 0, -1, 1 ]\n",
    "\n",
    "    for i in range(n) :\n",
    "        for j in range(n) :\n",
    "            if garden[i][j] == 1 :\n",
    "                q.put((i, j, 0))\n",
    "\n",
    "    while q.empty() == False :\n",
    "        x, y, day = q.get()\n",
    "\n",
    "        for i in range(4) :\n",
    "            next_x = x + dx[i]\n",
    "            next_y = y + dy[i]\n",
    "            next_day = day + 1\n",
    "\n",
    "            if (0 <= next_x and next_x < n and 0 <= next_y and next_y < n) and (garden[next_x][next_y] == 0) :\n",
    "                garden[next_x][next_y] = 1\n",
    "                answer = next_day\n",
    "                q.put((next_x, next_y, next_day))\n",
    "\n",
    "    return answer"
   ]
  },
  {
   "cell_type": "markdown",
   "metadata": {},
   "source": [
    "### [6차] 2. 단어를 순서대로 적으세요\n"
   ]
  },
  {
   "cell_type": "code",
   "execution_count": 19,
   "metadata": {},
   "outputs": [],
   "source": [
    "def solution(K, words):\n",
    "    answer = 0\n",
    "    s = '_'*K\n",
    "    idx = 0\n",
    "    for word in words:\n",
    "        try:\n",
    "            s[idx:idx+len(word)] = word\n",
    "            idx += len(word)+1\n",
    "        except IndexError:\n",
    "            idx = 0\n",
    "            s[idx:idx+len(word)] = word\n",
    "        print(s)\n",
    "    return answer"
   ]
  },
  {
   "cell_type": "markdown",
   "metadata": {},
   "source": [
    "### [6차] 3. 큰 수와 작은 수의 차이"
   ]
  },
  {
   "cell_type": "code",
   "execution_count": 22,
   "metadata": {},
   "outputs": [],
   "source": [
    "import itertools\n",
    "\n",
    "def solution(array, K):\n",
    "    K = 4\n",
    "    answer = max(array)\n",
    "    for i in itertools.combinations(array, K):\n",
    "        diff = max(i)-min(i)\n",
    "        answer = min(diff, answer)\n",
    "    return answer"
   ]
  }
 ],
 "metadata": {
  "kernelspec": {
   "display_name": "Python 3",
   "language": "python",
   "name": "python3"
  },
  "language_info": {
   "codemirror_mode": {
    "name": "ipython",
    "version": 3
   },
   "file_extension": ".py",
   "mimetype": "text/x-python",
   "name": "python",
   "nbconvert_exporter": "python",
   "pygments_lexer": "ipython3",
   "version": "3.8.3"
  },
  "toc": {
   "base_numbering": 1,
   "nav_menu": {},
   "number_sections": false,
   "sideBar": true,
   "skip_h1_title": false,
   "title_cell": "Table of Contents",
   "title_sidebar": "Contents",
   "toc_cell": false,
   "toc_position": {},
   "toc_section_display": true,
   "toc_window_display": true
  }
 },
 "nbformat": 4,
 "nbformat_minor": 4
}
