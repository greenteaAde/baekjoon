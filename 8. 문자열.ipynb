{
 "cells": [
  {
   "cell_type": "markdown",
   "metadata": {},
   "source": [
    "### 아스키코드"
   ]
  },
  {
   "cell_type": "code",
   "execution_count": 9,
   "metadata": {},
   "outputs": [
    {
     "name": "stdout",
     "output_type": "stream",
     "text": [
      "a\n",
      "97\n"
     ]
    }
   ],
   "source": [
    "s = input()\n",
    "print(ord(s))"
   ]
  },
  {
   "cell_type": "markdown",
   "metadata": {},
   "source": [
    "### 숫자의 합"
   ]
  },
  {
   "cell_type": "code",
   "execution_count": 10,
   "metadata": {},
   "outputs": [
    {
     "name": "stdout",
     "output_type": "stream",
     "text": [
      "5\n",
      "54321\n",
      "15\n"
     ]
    }
   ],
   "source": [
    "n = int(input())\n",
    "s = input()\n",
    "print(sum([int(i) for i in s]))"
   ]
  },
  {
   "cell_type": "markdown",
   "metadata": {},
   "source": [
    "### 알파벳 찾기"
   ]
  },
  {
   "cell_type": "code",
   "execution_count": 8,
   "metadata": {
    "scrolled": true
   },
   "outputs": [
    {
     "name": "stdout",
     "output_type": "stream",
     "text": [
      "baekjoon\n",
      "1 0 -1 -1 2 -1 -1 -1 -1 4 3 -1 -1 7 5 -1 -1 -1 -1 -1 -1 -1 -1 -1 -1 -1\n"
     ]
    }
   ],
   "source": [
    "s = input()\n",
    "a = ['-1' for i in range(26)]\n",
    "for i in s:\n",
    "    a[ord(i)-ord('a')] = str(s.index(i))\n",
    "print(' '.join(a))"
   ]
  },
  {
   "cell_type": "markdown",
   "metadata": {},
   "source": [
    "### 문자열 반복"
   ]
  },
  {
   "cell_type": "code",
   "execution_count": 20,
   "metadata": {
    "scrolled": true
   },
   "outputs": [
    {
     "name": "stdout",
     "output_type": "stream",
     "text": [
      "2\n",
      "3 ABS\n",
      "AAABBBSSS\n",
      "5 /TPS\n",
      "/////TTTTTPPPPPSSSSS\n"
     ]
    }
   ],
   "source": [
    "t = int(input())\n",
    "for i in range(t):\n",
    "    r, s = input().split(' ')\n",
    "    for i in range(len(s)):\n",
    "        print(s[i]*int(r), end = '')\n",
    "    print()"
   ]
  },
  {
   "cell_type": "markdown",
   "metadata": {},
   "source": [
    "### 단어공부"
   ]
  },
  {
   "cell_type": "code",
   "execution_count": 41,
   "metadata": {},
   "outputs": [
    {
     "name": "stdout",
     "output_type": "stream",
     "text": [
      "sogang\n",
      "G\n"
     ]
    }
   ],
   "source": [
    "## 딕셔너리 사용\n",
    "s = input().upper()\n",
    "\n",
    "a_dict = {}\n",
    "for a in set(s):\n",
    "    a_dict.update({a: s.count(a)})\n",
    "\n",
    "max_ = [v for v, k in a_dict.items() if k==max(a_dict.values())]\n",
    "if len(max_) > 1:\n",
    "    print('?')\n",
    "else:\n",
    "    print(max_[0])\n",
    "\n",
    "## 208byte, 108ms"
   ]
  },
  {
   "cell_type": "code",
   "execution_count": 35,
   "metadata": {
    "scrolled": true
   },
   "outputs": [
    {
     "name": "stdout",
     "output_type": "stream",
     "text": [
      "Mississipi\n",
      "?\n"
     ]
    }
   ],
   "source": [
    "## 리스트와 아스키코드 사용\n",
    "\n",
    "s = input().upper()\n",
    "a = [0 for i in range(26)]\n",
    "\n",
    "for i in s:\n",
    "    a[ord(i)-65] += 1\n",
    "\n",
    "max_ = max(a)\n",
    "if a.count(max_) > 1:\n",
    "    print('?')\n",
    "else:\n",
    "    print(chr(a.index(max_)+65))\n",
    "    \n",
    "## 172byte, 280ms\n",
    "## 딕셔너리가 리스트보다 더 빠르다."
   ]
  },
  {
   "cell_type": "markdown",
   "metadata": {},
   "source": [
    "### 단어의 개수"
   ]
  },
  {
   "cell_type": "code",
   "execution_count": 62,
   "metadata": {},
   "outputs": [
    {
     "name": "stdout",
     "output_type": "stream",
     "text": [
      "Teullinika Teullyeotzi  \n",
      "2\n"
     ]
    }
   ],
   "source": [
    "n = input().split(' ')\n",
    "a = list(filter(lambda x: x != '', n))\n",
    "print(len(a))"
   ]
  },
  {
   "cell_type": "code",
   "execution_count": 64,
   "metadata": {
    "scrolled": true
   },
   "outputs": [
    {
     "name": "stdout",
     "output_type": "stream",
     "text": [
      "  Mazatneunde Wae Teullyeoyo \n",
      "3\n"
     ]
    }
   ],
   "source": [
    "## str.split(): sep = None일 시 알아서 분리할 문자를 찾아 작업수행\n",
    "## 복잡한 패턴인 경우 sep을 꼭 지정해 주어야 함\n",
    "print(len(input().split()))"
   ]
  },
  {
   "cell_type": "markdown",
   "metadata": {},
   "source": [
    "### 상수"
   ]
  },
  {
   "cell_type": "code",
   "execution_count": 75,
   "metadata": {
    "scrolled": false
   },
   "outputs": [
    {
     "name": "stdout",
     "output_type": "stream",
     "text": [
      "135 973\n",
      "531\n"
     ]
    }
   ],
   "source": [
    "n = list(map(lambda x: x[::-1], input().split()))\n",
    "print(max(n))"
   ]
  },
  {
   "cell_type": "markdown",
   "metadata": {},
   "source": [
    "### 다이얼"
   ]
  },
  {
   "cell_type": "code",
   "execution_count": 101,
   "metadata": {
    "scrolled": true
   },
   "outputs": [
    {
     "name": "stdout",
     "output_type": "stream",
     "text": [
      "UNUCIC\n",
      "36\n"
     ]
    }
   ],
   "source": [
    "s = '22233344455566677778889999'\n",
    "n = list(map(lambda x: int(s[ord(x)-65])+1, list(input())))\n",
    "print(sum(n))"
   ]
  },
  {
   "cell_type": "markdown",
   "metadata": {},
   "source": [
    "### 크로아티아 알파벳"
   ]
  },
  {
   "cell_type": "code",
   "execution_count": 115,
   "metadata": {
    "scrolled": true
   },
   "outputs": [
    {
     "name": "stdout",
     "output_type": "stream",
     "text": [
      "c=c=\n",
      "2\n"
     ]
    }
   ],
   "source": [
    "alpha = ['c=','c-','dz=','d-','lj','nj','s=','z=']\n",
    "s = input()\n",
    "\n",
    "for a in alpha:\n",
    "    s = s.replace(a, '*')\n",
    "\n",
    "print(len(s))"
   ]
  },
  {
   "cell_type": "markdown",
   "metadata": {},
   "source": [
    "### 그룹 단어 체커"
   ]
  },
  {
   "cell_type": "code",
   "execution_count": 136,
   "metadata": {},
   "outputs": [
    {
     "name": "stdout",
     "output_type": "stream",
     "text": [
      "2\n",
      "qwert\n",
      "qdasdq\n",
      "1\n"
     ]
    }
   ],
   "source": [
    "words = [input() for i in range(int(input()))]\n",
    "g_word = 0\n",
    "\n",
    "for word in words:\n",
    "    f_i = [word.index(a) for a in word]\n",
    "    f_i = [0 if f_i[i+1]-f_i[i] >= 0 else 1 for i in range(len(f_i)-1)]\n",
    "    if sum(f_i) == 0:\n",
    "        g_word += 1\n",
    "        \n",
    "print(g_word)"
   ]
  },
  {
   "cell_type": "code",
   "execution_count": 144,
   "metadata": {},
   "outputs": [
    {
     "name": "stdout",
     "output_type": "stream",
     "text": [
      "3\n",
      "asdasdasd\n",
      "asdasasag\n",
      "a\n",
      "1\n"
     ]
    }
   ],
   "source": [
    "## 참고한 코드\n",
    "n = int(input())\n",
    "g_word = 0\n",
    "\n",
    "for i in range(n):\n",
    "    a = input()\n",
    "    g_word += list(a) == sorted(a, key=a.index)\n",
    "\n",
    "print(g_word)"
   ]
  },
  {
   "cell_type": "code",
   "execution_count": null,
   "metadata": {},
   "outputs": [],
   "source": []
  }
 ],
 "metadata": {
  "kernelspec": {
   "display_name": "Python 3",
   "language": "python",
   "name": "python3"
  },
  "language_info": {
   "codemirror_mode": {
    "name": "ipython",
    "version": 3
   },
   "file_extension": ".py",
   "mimetype": "text/x-python",
   "name": "python",
   "nbconvert_exporter": "python",
   "pygments_lexer": "ipython3",
   "version": "3.8.3"
  },
  "toc": {
   "base_numbering": 1,
   "nav_menu": {},
   "number_sections": true,
   "sideBar": true,
   "skip_h1_title": false,
   "title_cell": "Table of Contents",
   "title_sidebar": "Contents",
   "toc_cell": false,
   "toc_position": {},
   "toc_section_display": true,
   "toc_window_display": false
  }
 },
 "nbformat": 4,
 "nbformat_minor": 4
}
